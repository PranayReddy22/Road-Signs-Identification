{
 "cells": [
  {
   "cell_type": "markdown",
   "id": "4650503a",
   "metadata": {},
   "source": [
    "# Capstone Project: Road Signs Identification using a Neural Network"
   ]
  },
  {
   "cell_type": "markdown",
   "id": "fedd530c",
   "metadata": {},
   "source": [
    "### Dataset Used: **Kaggle gtsrb-traffic-sign Dataset** \n",
    "\n",
    "### Objectives: \n",
    "- Data Preprocessing and Model Building<br>\n",
    "- Training & Testing of the model<br>\n",
    "- Designing and Testing the GUI\n",
    "\n",
    "\n",
    "#### Authors: `Chitrang Juneja`    &emsp; &emsp;  `Pranay Redyy` &emsp; &emsp; `Debashis Garai`&emsp; &emsp;  `Utkarsh Gangwar`<br><br>&emsp; &emsp; &emsp; &emsp; &ensp;  `18BCS6115` &emsp; &emsp; &emsp; &emsp; `18BCS6100` &emsp; &emsp; &emsp; &ensp; `18BCS6054` &emsp; &emsp; &emsp; &ensp; &ensp; `18BCS3777`"
   ]
  },
  {
   "cell_type": "markdown",
   "id": "a6f0ad37",
   "metadata": {},
   "source": [
    " "
   ]
  },
  {
   "cell_type": "markdown",
   "id": "85c059a0",
   "metadata": {},
   "source": [
    "\n",
    "**Importing warnings to be warned of situations that aren’t necessarily exceptions**"
   ]
  },
  {
   "cell_type": "code",
   "execution_count": 4,
   "id": "3eaf52f1",
   "metadata": {},
   "outputs": [],
   "source": [
    "import warnings\n",
    "warnings.filterwarnings(\"ignore\", category=DeprecationWarning)"
   ]
  },
  {
   "cell_type": "markdown",
   "id": "a11e98c9",
   "metadata": {},
   "source": [
    "**Importing the required libraries for our analysis**"
   ]
  },
  {
   "cell_type": "code",
   "execution_count": 2,
   "id": "c46343f3",
   "metadata": {},
   "outputs": [],
   "source": [
    "import numpy as np                               #basically an array\n",
    "import pandas as pd                              #reading and analyze csv\n",
    "import matplotlib.pyplot as plt                  #data visualisation\n",
    "import cv2                                       #comp. vision, image processing, uses numpy as images are 2D array(matrices)\n",
    "import tensorflow as tf                          #creating neural network (collect, build, train, evaluate, predict)\n",
    "from PIL import Image                            #manipulate images in python\n",
    "import os                                        #directory control\n",
    "from sklearn.metrics import accuracy_score\n",
    "from sklearn.model_selection import train_test_split\n",
    "from tensorflow.keras.utils import to_categorical           #one-hot encoding\n",
    "from keras.models import Sequential, load_model\n",
    "from keras.layers import Conv2D, MaxPool2D, Dense, Flatten, Dropout\n",
    "import tqdm                                     #progress bar"
   ]
  },
  {
   "cell_type": "markdown",
   "id": "45037ec9",
   "metadata": {},
   "source": [
    "**Importing the dataset from the remote location and resizing the images**"
   ]
  },
  {
   "cell_type": "code",
   "execution_count": 3,
   "id": "a796ff8e",
   "metadata": {},
   "outputs": [],
   "source": [
    "data = []\n",
    "labels = []\n",
    "classes = 43\n",
    "\n",
    "for i in range(classes):\n",
    "    path = os.path.join(os.getcwd(),'train',str(i))\n",
    "    images = os.listdir(path)\n",
    "    \n",
    "    for j in images:\n",
    "        try:\n",
    "            image = Image.open(path + '\\\\'+ j)\n",
    "            image = image.resize((30,30))\n",
    "            image = np.array(image)\n",
    "            data.append(image)\n",
    "            labels.append(i)\n",
    "        except:\n",
    "            print(\"Error loading image\")"
   ]
  },
  {
   "cell_type": "markdown",
   "id": "30445c65",
   "metadata": {},
   "source": [
    "#### Converting lists into numpy arrays bcoz its faster and takes lesser memory"
   ]
  },
  {
   "cell_type": "code",
   "execution_count": 4,
   "id": "32296f9f",
   "metadata": {},
   "outputs": [],
   "source": [
    "data = np.array(data)\n",
    "labels = np.array(labels)"
   ]
  },
  {
   "cell_type": "code",
   "execution_count": 5,
   "id": "d31f9c28",
   "metadata": {},
   "outputs": [
    {
     "name": "stdout",
     "output_type": "stream",
     "text": [
      "(39209, 30, 30, 3) (39209,)\n"
     ]
    }
   ],
   "source": [
    "print(data.shape, labels.shape) "
   ]
  },
  {
   "cell_type": "markdown",
   "id": "87db3e46",
   "metadata": {},
   "source": [
    "Total Images:39209 of size (30x30x3(3 Means Color))"
   ]
  },
  {
   "cell_type": "markdown",
   "id": "89900688",
   "metadata": {},
   "source": [
    " **Peaking into the data**"
   ]
  },
  {
   "cell_type": "code",
   "execution_count": 6,
   "id": "4afc4be9",
   "metadata": {},
   "outputs": [
    {
     "data": {
      "text/plain": [
       "array([[[17, 17, 19],\n",
       "        [18, 18, 19],\n",
       "        [18, 17, 18],\n",
       "        ...,\n",
       "        [20, 19, 23],\n",
       "        [21, 19, 21],\n",
       "        [21, 20, 21]],\n",
       "\n",
       "       [[17, 19, 23],\n",
       "        [18, 19, 20],\n",
       "        [19, 19, 20],\n",
       "        ...,\n",
       "        [22, 21, 22],\n",
       "        [24, 23, 24],\n",
       "        [21, 21, 22]],\n",
       "\n",
       "       [[20, 24, 26],\n",
       "        [16, 18, 20],\n",
       "        [17, 18, 20],\n",
       "        ...,\n",
       "        [20, 19, 21],\n",
       "        [21, 20, 21],\n",
       "        [19, 19, 19]],\n",
       "\n",
       "       ...,\n",
       "\n",
       "       [[20, 20, 25],\n",
       "        [19, 19, 24],\n",
       "        [19, 18, 23],\n",
       "        ...,\n",
       "        [30, 28, 32],\n",
       "        [19, 22, 27],\n",
       "        [18, 19, 24]],\n",
       "\n",
       "       [[19, 19, 24],\n",
       "        [17, 17, 22],\n",
       "        [18, 17, 22],\n",
       "        ...,\n",
       "        [22, 26, 31],\n",
       "        [18, 25, 31],\n",
       "        [18, 24, 31]],\n",
       "\n",
       "       [[16, 17, 21],\n",
       "        [16, 16, 20],\n",
       "        [17, 16, 21],\n",
       "        ...,\n",
       "        [46, 56, 74],\n",
       "        [43, 54, 73],\n",
       "        [42, 53, 73]]], dtype=uint8)"
      ]
     },
     "execution_count": 6,
     "metadata": {},
     "output_type": "execute_result"
    }
   ],
   "source": [
    "data[39000]"
   ]
  },
  {
   "cell_type": "code",
   "execution_count": 7,
   "id": "38577491",
   "metadata": {},
   "outputs": [
    {
     "data": {
      "text/plain": [
       "3"
      ]
     },
     "execution_count": 7,
     "metadata": {},
     "output_type": "execute_result"
    }
   ],
   "source": [
    "labels[4900]"
   ]
  },
  {
   "cell_type": "markdown",
   "id": "7f0f05fa",
   "metadata": {},
   "source": [
    "### Splitting the Data into Training and Testing Sets\n",
    "The very basic step towards our model building is to perfrom a train-test split"
   ]
  },
  {
   "cell_type": "code",
   "execution_count": 8,
   "id": "ff5cecc9",
   "metadata": {},
   "outputs": [
    {
     "name": "stdout",
     "output_type": "stream",
     "text": [
      "(31367, 30, 30, 3) (7842, 30, 30, 3) (31367,) (7842,)\n"
     ]
    }
   ],
   "source": [
    "X_train, X_test, y_train, y_test = train_test_split(data, labels, test_size=0.2, random_state=68)\n",
    "\n",
    "print(X_train.shape, X_test.shape, y_train.shape, y_test.shape)"
   ]
  },
  {
   "cell_type": "markdown",
   "id": "def87fd3",
   "metadata": {},
   "source": [
    "#### Converting the labels into one hot encoding to make it more useful and expressive"
   ]
  },
  {
   "cell_type": "code",
   "execution_count": 9,
   "id": "9f0375a6",
   "metadata": {},
   "outputs": [
    {
     "name": "stdout",
     "output_type": "stream",
     "text": [
      "(31367, 30, 30, 3) (7842, 30, 30, 3) (31367, 43) (7842, 43)\n"
     ]
    }
   ],
   "source": [
    "y_train = to_categorical(y_train, 43)\n",
    "y_test = to_categorical(y_test, 43)\n",
    "print(X_train.shape, X_test.shape, y_train.shape, y_test.shape)"
   ]
  },
  {
   "cell_type": "code",
   "execution_count": 10,
   "id": "e40ddf26",
   "metadata": {},
   "outputs": [
    {
     "data": {
      "text/plain": [
       "array([0., 0., 0., 0., 0., 0., 0., 0., 0., 0., 1., 0., 0., 0., 0., 0., 0.,\n",
       "       0., 0., 0., 0., 0., 0., 0., 0., 0., 0., 0., 0., 0., 0., 0., 0., 0.,\n",
       "       0., 0., 0., 0., 0., 0., 0., 0., 0.], dtype=float32)"
      ]
     },
     "execution_count": 10,
     "metadata": {},
     "output_type": "execute_result"
    }
   ],
   "source": [
    "y_train[20000]"
   ]
  },
  {
   "cell_type": "markdown",
   "id": "367581d8",
   "metadata": {},
   "source": [
    "### Model Building and Evaluation"
   ]
  },
  {
   "cell_type": "code",
   "execution_count": 11,
   "id": "278cb70d",
   "metadata": {},
   "outputs": [],
   "source": [
    "model = Sequential()\n",
    "model.add(Conv2D(filters=32, kernel_size=(5,5), activation='relu', input_shape=X_train.shape[1:]))\n",
    "model.add(Conv2D(filters=32, kernel_size=(5,5), activation='relu'))\n",
    "model.add(MaxPool2D(pool_size=(2, 2)))\n",
    "model.add(Dropout(rate=0.25))\n",
    "model.add(Conv2D(filters=64, kernel_size=(3, 3), activation='relu'))\n",
    "model.add(Conv2D(filters=64, kernel_size=(3, 3), activation='relu'))\n",
    "model.add(MaxPool2D(pool_size=(2, 2)))\n",
    "model.add(Dropout(rate=0.25))\n",
    "model.add(Flatten())\n",
    "model.add(Dense(256, activation='relu'))\n",
    "model.add(Dropout(rate=0.5))\n",
    "model.add(Dense(43, activation='softmax'))"
   ]
  },
  {
   "cell_type": "code",
   "execution_count": 12,
   "id": "d46c5837",
   "metadata": {},
   "outputs": [],
   "source": [
    "model.compile(loss='categorical_crossentropy', optimizer='adam', metrics=['accuracy'])"
   ]
  },
  {
   "cell_type": "code",
   "execution_count": 13,
   "id": "ffa49442",
   "metadata": {},
   "outputs": [
    {
     "name": "stdout",
     "output_type": "stream",
     "text": [
      "Model: \"sequential\"\n",
      "_________________________________________________________________\n",
      " Layer (type)                Output Shape              Param #   \n",
      "=================================================================\n",
      " conv2d (Conv2D)             (None, 26, 26, 32)        2432      \n",
      "                                                                 \n",
      " conv2d_1 (Conv2D)           (None, 22, 22, 32)        25632     \n",
      "                                                                 \n",
      " max_pooling2d (MaxPooling2D  (None, 11, 11, 32)       0         \n",
      " )                                                               \n",
      "                                                                 \n",
      " dropout (Dropout)           (None, 11, 11, 32)        0         \n",
      "                                                                 \n",
      " conv2d_2 (Conv2D)           (None, 9, 9, 64)          18496     \n",
      "                                                                 \n",
      " conv2d_3 (Conv2D)           (None, 7, 7, 64)          36928     \n",
      "                                                                 \n",
      " max_pooling2d_1 (MaxPooling  (None, 3, 3, 64)         0         \n",
      " 2D)                                                             \n",
      "                                                                 \n",
      " dropout_1 (Dropout)         (None, 3, 3, 64)          0         \n",
      "                                                                 \n",
      " flatten (Flatten)           (None, 576)               0         \n",
      "                                                                 \n",
      " dense (Dense)               (None, 256)               147712    \n",
      "                                                                 \n",
      " dropout_2 (Dropout)         (None, 256)               0         \n",
      "                                                                 \n",
      " dense_1 (Dense)             (None, 43)                11051     \n",
      "                                                                 \n",
      "=================================================================\n",
      "Total params: 242,251\n",
      "Trainable params: 242,251\n",
      "Non-trainable params: 0\n",
      "_________________________________________________________________\n"
     ]
    }
   ],
   "source": [
    "model.summary()"
   ]
  },
  {
   "cell_type": "markdown",
   "id": "1f48f983",
   "metadata": {},
   "source": [
    "#### Final training of the model"
   ]
  },
  {
   "cell_type": "code",
   "execution_count": 14,
   "id": "36818bcf",
   "metadata": {},
   "outputs": [
    {
     "name": "stdout",
     "output_type": "stream",
     "text": [
      "Epoch 1/2\n",
      "981/981 [==============================] - 40s 40ms/step - loss: 2.0170 - accuracy: 0.4854 - val_loss: 0.4531 - val_accuracy: 0.8791\n",
      "Epoch 2/2\n",
      "981/981 [==============================] - 41s 41ms/step - loss: 0.5704 - accuracy: 0.8334 - val_loss: 0.1467 - val_accuracy: 0.9642\n"
     ]
    }
   ],
   "source": [
    "history = model.fit(X_train, y_train, batch_size=32, epochs=2, validation_data=(X_test, y_test))"
   ]
  },
  {
   "cell_type": "markdown",
   "id": "9d658cd5",
   "metadata": {},
   "source": [
    "#### Saving the model to use it for GUI image classification stage"
   ]
  },
  {
   "cell_type": "code",
   "execution_count": 15,
   "id": "95045d08",
   "metadata": {},
   "outputs": [],
   "source": [
    "model.save(\"Traffic_signs_model.h5\")"
   ]
  },
  {
   "cell_type": "markdown",
   "id": "0808b16e",
   "metadata": {},
   "source": [
    "#### Applying the model and plotting graphs for accuracy "
   ]
  },
  {
   "cell_type": "code",
   "execution_count": 16,
   "id": "b4127809",
   "metadata": {},
   "outputs": [
    {
     "data": {
      "image/png": "[encoded data removed]",
      "text/plain": [
       "<Figure size 432x288 with 1 Axes>"
      ]
     },
     "metadata": {
      "needs_background": "light"
     },
     "output_type": "display_data"
    }
   ],
   "source": [
    "plt.figure(0)\n",
    "plt.plot(history.history['accuracy'], label='training accuracy')\n",
    "plt.plot(history.history['val_accuracy'], label='val accuracy')\n",
    "plt.title('Accuracy')\n",
    "plt.xlabel('epochs')\n",
    "plt.ylabel('accuracy')\n",
    "plt.legend()\n",
    "plt.show()"
   ]
  },
  {
   "cell_type": "markdown",
   "id": "e5d812d8",
   "metadata": {},
   "source": [
    "#### Now applying the model again and plotting graphs for loss "
   ]
  },
  {
   "cell_type": "code",
   "execution_count": 17,
   "id": "b6654673",
   "metadata": {},
   "outputs": [
    {
     "data": {
      "image/png": "[encoded data removed]",
      "text/plain": [
       "<Figure size 432x288 with 1 Axes>"
      ]
     },
     "metadata": {
      "needs_background": "light"
     },
     "output_type": "display_data"
    }
   ],
   "source": [
    "plt.figure(1)\n",
    "plt.plot(history.history['loss'], label='training loss')\n",
    "plt.plot(history.history['val_loss'], label='val loss')\n",
    "plt.title('Loss')\n",
    "plt.xlabel('epochs')\n",
    "plt.ylabel('loss')\n",
    "plt.legend()\n",
    "plt.show()"
   ]
  },
  {
   "cell_type": "markdown",
   "id": "b95ea359",
   "metadata": {},
   "source": [
    "### Testing accuracy on test dataset"
   ]
  },
  {
   "cell_type": "code",
   "execution_count": 18,
   "id": "a29ba861",
   "metadata": {},
   "outputs": [],
   "source": [
    "y_test = pd.read_csv('Test.csv')\n",
    "\n",
    "labels = y_test[\"ClassId\"].values\n",
    "imgs = y_test[\"Path\"].values\n",
    "\n",
    "data=[]\n",
    "\n",
    "for img in imgs:\n",
    "    image = Image.open(img)\n",
    "    image = image.resize((30,30))\n",
    "    data.append(np.array(image))\n",
    "\n",
    "X_test=np.array(data)\n",
    "\n",
    "pred=model.predict(X_test) \n",
    "classes=np.argmax(pred,axis=1)"
   ]
  },
  {
   "cell_type": "markdown",
   "id": "2b8fe4ec",
   "metadata": {},
   "source": [
    "#### Accuracy with the test data"
   ]
  },
  {
   "cell_type": "code",
   "execution_count": 19,
   "id": "1e933527",
   "metadata": {},
   "outputs": [
    {
     "name": "stdout",
     "output_type": "stream",
     "text": [
      "0.9265241488519398\n"
     ]
    }
   ],
   "source": [
    "print(accuracy_score(labels, classes))"
   ]
  },
  {
   "cell_type": "markdown",
   "id": "8e02b2a1",
   "metadata": {},
   "source": [
    "**We have got an accuracy of `92.6%` for our model, which allows us to safely conclude that our model will work just fine in the real-time environment, though maximizing it is part of our future scope.**"
   ]
  },
  {
   "cell_type": "markdown",
   "id": "7560c181",
   "metadata": {},
   "source": [
    "## Graphical User Interface (GUI)"
   ]
  },
  {
   "cell_type": "markdown",
   "id": "6adca6ce",
   "metadata": {},
   "source": [
    "#### Importing the other libraries required for GUI designing"
   ]
  },
  {
   "cell_type": "code",
   "execution_count": 5,
   "id": "569ad1fb",
   "metadata": {},
   "outputs": [],
   "source": [
    "import tkinter as tk\n",
    "from tkinter import filedialog\n",
    "from tkinter import *\n",
    "from PIL import ImageTk, Image\n",
    "from keras.models import load_model\n",
    "import numpy"
   ]
  },
  {
   "cell_type": "code",
   "execution_count": 6,
   "id": "65793f5d",
   "metadata": {},
   "outputs": [],
   "source": [
    "model = load_model('Traffic_signs_model.h5')\n",
    "warnings.filterwarnings(\"ignore\", category=DeprecationWarning)"
   ]
  },
  {
   "cell_type": "markdown",
   "id": "8ddb3b9c",
   "metadata": {},
   "source": [
    "#### Dictionary to label all traffic signs class"
   ]
  },
  {
   "cell_type": "code",
   "execution_count": 7,
   "id": "53e55b95",
   "metadata": {},
   "outputs": [],
   "source": [
    "classes = { 1:'Speed limit (20km/h)',\n",
    "            2:'Speed limit (30km/h)',      \n",
    "            3:'Speed limit (50km/h)',       \n",
    "            4:'Speed limit (60km/h)',      \n",
    "            5:'Speed limit (70km/h)',    \n",
    "            6:'Speed limit (80km/h)',      \n",
    "            7:'End of speed limit (80km/h)',     \n",
    "            8:'Speed limit (100km/h)',    \n",
    "            9:'Speed limit (120km/h)',     \n",
    "           10:'No passing',   \n",
    "           11:'No passing veh over 3.5 tons',     \n",
    "           12:'Right-of-way at intersection',     \n",
    "           13:'Priority road',    \n",
    "           14:'Yield',     \n",
    "           15:'Stop',       \n",
    "           16:'No vehicles',       \n",
    "           17:'Veh > 3.5 tons prohibited',       \n",
    "           18:'No entry',       \n",
    "           19:'General caution',     \n",
    "           20:'Dangerous curve left',      \n",
    "           21:'Dangerous curve right',   \n",
    "           22:'Double curve',      \n",
    "           23:'Bumpy road',     \n",
    "           24:'Slippery road',       \n",
    "           25:'Road narrows on the right',  \n",
    "           26:'Road work',    \n",
    "           27:'Traffic signals',      \n",
    "           28:'Pedestrians',     \n",
    "           29:'Children crossing',     \n",
    "           30:'Bicycles crossing',       \n",
    "           31:'Beware of ice/snow',\n",
    "           32:'Wild animals crossing',      \n",
    "           33:'End speed + passing limits',      \n",
    "           34:'Turn right ahead',     \n",
    "           35:'Turn left ahead',       \n",
    "           36:'Ahead only',      \n",
    "           37:'Go straight or right',      \n",
    "           38:'Go straight or left',      \n",
    "           39:'Keep right',     \n",
    "           40:'Keep left',      \n",
    "           41:'Roundabout mandatory',     \n",
    "           42:'End of no passing',      \n",
    "           43:'End no passing veh > 3.5 tons' }"
   ]
  },
  {
   "cell_type": "markdown",
   "id": "6fa88821",
   "metadata": {},
   "source": [
    "#### Designing a user-friendly GUI using tkinter library, which accepts the model and produces the required results"
   ]
  },
  {
   "cell_type": "code",
   "execution_count": 8,
   "id": "cbb62c41",
   "metadata": {},
   "outputs": [],
   "source": [
    "window=tk.Tk()\n",
    "window.geometry('600x500')\n",
    "window.title('Traffic sign classifier')\n",
    "\n",
    "window.configure(background='#1e3e64')\n",
    "\n",
    "heading = Label(window, text=\"Traffic Sign Classifier\",padx=220, font=('Verdana',20,'bold'))\n",
    "heading.configure(background='#143953',foreground='white')\n",
    "heading.pack()\n",
    "\n",
    "sign = Label(window)\n",
    "sign.configure(background='#1e3e64')\n",
    "\n",
    "value = Label(window,font=('Helvetica',15,'bold'))\n",
    "value.configure(background='#1e3e64')\n",
    "\n",
    "def classify(file_path):\n",
    "    global label_packed\n",
    "    image = Image.open(file_path)\n",
    "    image = image.resize((30,30))\n",
    "    image = numpy.expand_dims(image, axis=0)\n",
    "    image = numpy.array(image)\n",
    "    print(image.shape)\n",
    "    pred_x = model.predict([image]) \n",
    "    pred=numpy.argmax(pred_x,axis=1)[0]\n",
    "    sign = classes[pred+1]\n",
    "    print(sign)\n",
    "    value.configure(foreground='#ffffff', text=sign)\n",
    "\n",
    "def show_cb(file_path):\n",
    "    classify_b=Button(window,text=\"Classify Image\",command=lambda: classify(file_path),padx=20,pady=5)\n",
    "    classify_b.configure(background='#147a81', foreground='white',font=('arial',10,'bold'))\n",
    "    classify_b.place(relx=0.6,rely=0.80)\n",
    "    \n",
    "def uploader():\n",
    "    try:\n",
    "        file_path = filedialog.askopenfilename()\n",
    "        uploaded = Image.open(file_path)\n",
    "        uploaded.thumbnail(((window.winfo_width()/2.25),(window.winfo_height()/2.25)))\n",
    "        im = ImageTk.PhotoImage(uploaded)\n",
    "        \n",
    "        sign.configure(image=im)\n",
    "        sign.image=im\n",
    "        value.configure(text='')\n",
    "        show_cb(file_path)\n",
    "    except:\n",
    "        pass\n",
    "\n",
    "upload = Button(window,text=\"Upload an image\",command=uploader,padx=10,pady=5)\n",
    "upload.configure(background='#e8d08e', foreground='#143953',font=('arial',10,'bold'))\n",
    "upload.pack()\n",
    "upload.place(x=100, y=400)\n",
    "\n",
    "sign.pack()\n",
    "sign.place(x=230,y=100)\n",
    "value.pack()\n",
    "value.place(x=240,y=300)\n",
    "\n",
    "window.mainloop()"
   ]
  },
  {
   "cell_type": "code",
   "execution_count": null,
   "id": "a072af79",
   "metadata": {},
   "outputs": [],
   "source": []
  }
 ],
 "metadata": {
  "kernelspec": {
   "display_name": "Python 3 (ipykernel)",
   "language": "python",
   "name": "python3"
  },
  "language_info": {
   "codemirror_mode": {
    "name": "ipython",
    "version": 3
   },
   "file_extension": ".py",
   "mimetype": "text/x-python",
   "name": "python",
   "nbconvert_exporter": "python",
   "pygments_lexer": "ipython3",
   "version": "3.9.7"
  }
 },
 "nbformat": 4,
 "nbformat_minor": 5
}
